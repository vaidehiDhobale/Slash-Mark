{
 "cells": [
  {
   "cell_type": "markdown",
   "id": "232646d8",
   "metadata": {},
   "source": [
    "## Voice Assistant"
   ]
  },
  {
   "cell_type": "code",
   "execution_count": 7,
   "id": "ae2cfd4f",
   "metadata": {},
   "outputs": [
    {
     "name": "stdout",
     "output_type": "stream",
     "text": [
      "Requirement already satisfied: pyttsx3 in c:\\users\\vaidhehi\\anaconda3\\lib\\site-packages (2.90)\n",
      "Requirement already satisfied: pywin32 in c:\\users\\vaidhehi\\anaconda3\\lib\\site-packages (from pyttsx3) (302)\n",
      "Requirement already satisfied: comtypes in c:\\users\\vaidhehi\\anaconda3\\lib\\site-packages (from pyttsx3) (1.1.10)\n",
      "Requirement already satisfied: pypiwin32 in c:\\users\\vaidhehi\\anaconda3\\lib\\site-packages (from pyttsx3) (223)\n",
      "Note: you may need to restart the kernel to use updated packages.\n"
     ]
    }
   ],
   "source": [
    "pip install pyttsx3"
   ]
  },
  {
   "cell_type": "code",
   "execution_count": 1,
   "id": "ed80e0fb",
   "metadata": {},
   "outputs": [
    {
     "name": "stdout",
     "output_type": "stream",
     "text": [
      "Collecting SpeechRecognition\n",
      "  Downloading SpeechRecognition-3.10.1-py2.py3-none-any.whl (32.8 MB)\n",
      "     ---------------------------------------- 32.8/32.8 MB 1.7 MB/s eta 0:00:00\n",
      "Requirement already satisfied: typing-extensions in c:\\users\\vaidhehi\\anaconda3\\lib\\site-packages (from SpeechRecognition) (4.3.0)\n",
      "Requirement already satisfied: requests>=2.26.0 in c:\\users\\vaidhehi\\anaconda3\\lib\\site-packages (from SpeechRecognition) (2.28.1)\n",
      "Requirement already satisfied: idna<4,>=2.5 in c:\\users\\vaidhehi\\anaconda3\\lib\\site-packages (from requests>=2.26.0->SpeechRecognition) (3.3)\n",
      "Requirement already satisfied: urllib3<1.27,>=1.21.1 in c:\\users\\vaidhehi\\anaconda3\\lib\\site-packages (from requests>=2.26.0->SpeechRecognition) (1.26.11)\n",
      "Requirement already satisfied: charset-normalizer<3,>=2 in c:\\users\\vaidhehi\\anaconda3\\lib\\site-packages (from requests>=2.26.0->SpeechRecognition) (2.0.4)\n",
      "Requirement already satisfied: certifi>=2017.4.17 in c:\\users\\vaidhehi\\anaconda3\\lib\\site-packages (from requests>=2.26.0->SpeechRecognition) (2022.9.14)\n",
      "Installing collected packages: SpeechRecognition\n",
      "Successfully installed SpeechRecognition-3.10.1\n",
      "Note: you may need to restart the kernel to use updated packages.\n"
     ]
    }
   ],
   "source": [
    "pip install SpeechRecognition"
   ]
  },
  {
   "cell_type": "code",
   "execution_count": 2,
   "id": "0a52bfe7",
   "metadata": {},
   "outputs": [
    {
     "name": "stdout",
     "output_type": "stream",
     "text": [
      "Collecting wikipedia\n",
      "  Downloading wikipedia-1.4.0.tar.gz (27 kB)\n",
      "  Preparing metadata (setup.py): started\n",
      "  Preparing metadata (setup.py): finished with status 'done'\n",
      "Requirement already satisfied: beautifulsoup4 in c:\\users\\vaidhehi\\anaconda3\\lib\\site-packages (from wikipedia) (4.11.1)\n",
      "Requirement already satisfied: requests<3.0.0,>=2.0.0 in c:\\users\\vaidhehi\\anaconda3\\lib\\site-packages (from wikipedia) (2.28.1)\n",
      "Requirement already satisfied: idna<4,>=2.5 in c:\\users\\vaidhehi\\anaconda3\\lib\\site-packages (from requests<3.0.0,>=2.0.0->wikipedia) (3.3)\n",
      "Requirement already satisfied: charset-normalizer<3,>=2 in c:\\users\\vaidhehi\\anaconda3\\lib\\site-packages (from requests<3.0.0,>=2.0.0->wikipedia) (2.0.4)\n",
      "Requirement already satisfied: urllib3<1.27,>=1.21.1 in c:\\users\\vaidhehi\\anaconda3\\lib\\site-packages (from requests<3.0.0,>=2.0.0->wikipedia) (1.26.11)\n",
      "Requirement already satisfied: certifi>=2017.4.17 in c:\\users\\vaidhehi\\anaconda3\\lib\\site-packages (from requests<3.0.0,>=2.0.0->wikipedia) (2022.9.14)\n",
      "Requirement already satisfied: soupsieve>1.2 in c:\\users\\vaidhehi\\anaconda3\\lib\\site-packages (from beautifulsoup4->wikipedia) (2.3.1)\n",
      "Building wheels for collected packages: wikipedia\n",
      "  Building wheel for wikipedia (setup.py): started\n",
      "  Building wheel for wikipedia (setup.py): finished with status 'done'\n",
      "  Created wheel for wikipedia: filename=wikipedia-1.4.0-py3-none-any.whl size=11680 sha256=a39a76596ea39715c828e7514a343210fa40a286ac7b41e446db7c7d4725da18\n",
      "  Stored in directory: c:\\users\\vaidhehi\\appdata\\local\\pip\\cache\\wheels\\c2\\46\\f4\\caa1bee71096d7b0cdca2f2a2af45cacf35c5760bee8f00948\n",
      "Successfully built wikipedia\n",
      "Installing collected packages: wikipedia\n",
      "Successfully installed wikipedia-1.4.0\n",
      "Note: you may need to restart the kernel to use updated packages.\n"
     ]
    }
   ],
   "source": [
    "pip install wikipedia"
   ]
  },
  {
   "cell_type": "code",
   "execution_count": 5,
   "id": "d16bd1fd",
   "metadata": {},
   "outputs": [
    {
     "name": "stdout",
     "output_type": "stream",
     "text": [
      "Collecting pyaudio\n",
      "  Downloading PyAudio-0.2.14-cp39-cp39-win_amd64.whl (164 kB)\n",
      "     ------------------------------------ 164.1/164.1 kB 822.6 kB/s eta 0:00:00\n",
      "Installing collected packages: pyaudio\n",
      "Successfully installed pyaudio-0.2.14\n",
      "Note: you may need to restart the kernel to use updated packages.\n"
     ]
    }
   ],
   "source": [
    "pip install pyaudio\n"
   ]
  },
  {
   "cell_type": "code",
   "execution_count": null,
   "id": "e6c04908",
   "metadata": {},
   "outputs": [],
   "source": [
    "import pyttsx3\n",
    "import speech_recognition as sr\n",
    "import wikipedia\n",
    "import webbrowser\n",
    "import os\n",
    "\n",
    "\n",
    "# init pyttsx\n",
    "engine = pyttsx3.init(\"sapi5\")\n",
    "voices = engine.getProperty(\"voices\")\n",
    "\n",
    "engine.setProperty('voice', voices[1].id)  # 1 for female and 0 for male voice\n",
    "\n",
    "\n",
    "def speak(audio):\n",
    "    engine.say(audio)\n",
    "    engine.runAndWait()\n",
    "\n",
    "\n",
    "def take_command():\n",
    "    r = sr.Recognizer()\n",
    "    with sr.Microphone() as source:\n",
    "        print(\"Listening...\")\n",
    "        r.pause_threshold = 1\n",
    "        audio = r.listen(source)\n",
    "    try:\n",
    "        print(\"Recognizing...\")\n",
    "        query = r.recognize_google(audio, language='en-in')\n",
    "        print(\"User said:\" + query + \"\\n\")\n",
    "    except Exception as e:\n",
    "        print(e)\n",
    "        speak(\"I didnt understand\")\n",
    "        return \"None\"\n",
    "    return query\n",
    "\n",
    "\n",
    "if __name__ == '__main__':\n",
    "\n",
    "    speak(\"Amigo assistance activated \")\n",
    "    speak(\"How can i help you\")\n",
    "    while True:\n",
    "        query = take_command().lower()\n",
    "        if 'wikipedia' in query:\n",
    "            speak(\"Searching Wikipedia ...\")\n",
    "            query = query.replace(\"wikipedia\", '')\n",
    "            results = wikipedia.summary(query, sentences=2)\n",
    "            speak(\"According to wikipedia\")\n",
    "            speak(results)\n",
    "        elif 'are you' in query:\n",
    "            speak(\"I am amigo developed by Jaspreet Singh\")\n",
    "        elif 'open youtube' in query:\n",
    "            speak(\"opening youtube\")\n",
    "            webbrowser.open(\"youtube.com\")\n",
    "        elif 'open google' in query:\n",
    "            speak(\"opening google\")\n",
    "            webbrowser.open(\"google.com\")\n",
    "        elif 'open github' in query:\n",
    "            speak(\"opening github\")\n",
    "            webbrowser.open(\"github.com\")\n",
    "        elif 'open stackoverflow' in query:\n",
    "            speak(\"opening stackoverflow\")\n",
    "            webbrowser.open(\"stackoverflow.com\")\n",
    "        elif 'open spotify' in query:\n",
    "            speak(\"opening spotify\")\n",
    "            webbrowser.open(\"spotify.com\")\n",
    "        elif 'open whatsapp' in query:\n",
    "            speak(\"opening whatsapp\")\n",
    "            loc = \"C:\\\\Users\\\\jaspr\\\\AppData\\\\Local\\\\WhatsApp\\\\WhatsApp.exe\"\n",
    "            os.startfile(loc)\n",
    "        elif 'play music' in query:\n",
    "            speak(\"opening music\")\n",
    "            webbrowser.open(\"spotify.com\")\n",
    "        elif 'play music' in query:\n",
    "            speak(\"opening music\")\n",
    "            webbrowser.open(\"spotify.com\")\n",
    "        elif 'local disk d' in query:\n",
    "            speak(\"opening local disk D\")\n",
    "            webbrowser.open(\"D://\")\n",
    "        elif 'local disk c' in query:\n",
    "            speak(\"opening local disk C\")\n",
    "            webbrowser.open(\"C://\")\n",
    "        elif 'local disk e' in query:\n",
    "            speak(\"opening local disk E\")\n",
    "            webbrowser.open(\"E://\")\n",
    "        elif 'sleep' in query:\n",
    "            exit(0)\n"
   ]
  },
  {
   "cell_type": "code",
   "execution_count": null,
   "id": "39217f88",
   "metadata": {},
   "outputs": [],
   "source": []
  }
 ],
 "metadata": {
  "kernelspec": {
   "display_name": "Python 3 (ipykernel)",
   "language": "python",
   "name": "python3"
  },
  "language_info": {
   "codemirror_mode": {
    "name": "ipython",
    "version": 3
   },
   "file_extension": ".py",
   "mimetype": "text/x-python",
   "name": "python",
   "nbconvert_exporter": "python",
   "pygments_lexer": "ipython3",
   "version": "3.9.13"
  }
 },
 "nbformat": 4,
 "nbformat_minor": 5
}

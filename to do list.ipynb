{
 "cells": [
  {
   "cell_type": "markdown",
   "id": "76aa6f63",
   "metadata": {},
   "source": [
    "## To Do "
   ]
  },
  {
   "cell_type": "code",
   "execution_count": 1,
   "id": "be31145c",
   "metadata": {},
   "outputs": [
    {
     "name": "stdout",
     "output_type": "stream",
     "text": [
      "\n",
      "Menu:\n",
      "1. Add task\n",
      "2. Remove task\n",
      "3. Display tasks\n",
      "4. Exit\n",
      "Enter your choice (1/2/3/4): 4\n",
      "Exiting the to-do list application. Have a great day!\n"
     ]
    }
   ],
   "source": [
    "class ToDoList:\n",
    "    def __init__(self):\n",
    "        self.tasks = []\n",
    "\n",
    "    def add_task(self, task):\n",
    "        self.tasks.append(task)\n",
    "        print(f\"Task '{task}' added successfully!\")\n",
    "\n",
    "    def remove_task(self, task):\n",
    "        if task in self.tasks:\n",
    "            self.tasks.remove(task)\n",
    "            print(f\"Task '{task}' removed successfully!\")\n",
    "        else:\n",
    "            print(f\"Task '{task}' not found in the list.\")\n",
    "\n",
    "    def display_tasks(self):\n",
    "        if self.tasks:\n",
    "            print(\"\\nYour To-Do List:\")\n",
    "            for i, task in enumerate(self.tasks, start=1):\n",
    "                print(f\"{i}. {task}\")\n",
    "        else:\n",
    "            print(\"Your to-do list is empty.\")\n",
    "\n",
    "if __name__ == \"__main__\":\n",
    "    todo = ToDoList()\n",
    "\n",
    "    while True:\n",
    "        print(\"\\nMenu:\")\n",
    "        print(\"1. Add task\")\n",
    "        print(\"2. Remove task\")\n",
    "        print(\"3. Display tasks\")\n",
    "        print(\"4. Exit\")\n",
    "\n",
    "        choice = input(\"Enter your choice (1/2/3/4): \")\n",
    "\n",
    "        if choice == \"1\":\n",
    "            task = input(\"Enter the task: \")\n",
    "            todo.add_task(task)\n",
    "        elif choice == \"2\":\n",
    "            task = input(\"Enter the task to remove: \")\n",
    "            todo.remove_task(task)\n",
    "        elif choice == \"3\":\n",
    "            todo.display_tasks()\n",
    "        elif choice == \"4\":\n",
    "            print(\"Exiting the to-do list application. Have a great day!\")\n",
    "            break\n",
    "        else:\n",
    "            print(\"Invalid choice. Please select a valid option.\")"
   ]
  }
 ],
 "metadata": {
  "kernelspec": {
   "display_name": "Python 3 (ipykernel)",
   "language": "python",
   "name": "python3"
  },
  "language_info": {
   "codemirror_mode": {
    "name": "ipython",
    "version": 3
   },
   "file_extension": ".py",
   "mimetype": "text/x-python",
   "name": "python",
   "nbconvert_exporter": "python",
   "pygments_lexer": "ipython3",
   "version": "3.9.13"
  }
 },
 "nbformat": 4,
 "nbformat_minor": 5
}

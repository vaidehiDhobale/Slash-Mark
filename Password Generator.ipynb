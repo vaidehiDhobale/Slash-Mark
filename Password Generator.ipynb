{
 "cells": [
  {
   "cell_type": "markdown",
   "id": "14f34a36",
   "metadata": {},
   "source": [
    "## Password Generator"
   ]
  },
  {
   "cell_type": "code",
   "execution_count": 1,
   "id": "b3a9801a",
   "metadata": {},
   "outputs": [
    {
     "name": "stdout",
     "output_type": "stream",
     "text": [
      "Strong Password: EG470QaQScYV\n"
     ]
    }
   ],
   "source": [
    "import random\n",
    "import string\n",
    "\n",
    "def generate_strong_password(length=12):\n",
    "    \"\"\"\n",
    "    Generates a strong random password with the specified length.\n",
    "    Uses uppercase letters, lowercase letters, and digits.\n",
    "    \"\"\"\n",
    "    characters = string.ascii_letters + string.digits\n",
    "    password = ''.join(random.choice(characters) for _ in range(length))\n",
    "    return password\n",
    "\n",
    "# Set the desired password length (you can adjust this)\n",
    "password_length = 12\n",
    "\n",
    "# Generate a strong password\n",
    "strong_password = generate_strong_password(password_length)\n",
    "\n",
    "print(f\"Strong Password: {strong_password}\")"
   ]
  }
 ],
 "metadata": {
  "kernelspec": {
   "display_name": "Python 3 (ipykernel)",
   "language": "python",
   "name": "python3"
  },
  "language_info": {
   "codemirror_mode": {
    "name": "ipython",
    "version": 3
   },
   "file_extension": ".py",
   "mimetype": "text/x-python",
   "name": "python",
   "nbconvert_exporter": "python",
   "pygments_lexer": "ipython3",
   "version": "3.9.13"
  }
 },
 "nbformat": 4,
 "nbformat_minor": 5
}

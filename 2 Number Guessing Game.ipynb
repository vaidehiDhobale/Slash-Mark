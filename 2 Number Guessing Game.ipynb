{
 "cells": [
  {
   "cell_type": "markdown",
   "id": "f0d4ed45",
   "metadata": {},
   "source": [
    "## Number Guessing Game"
   ]
  },
  {
   "cell_type": "code",
   "execution_count": null,
   "id": "54dc57a8",
   "metadata": {},
   "outputs": [],
   "source": [
    "import random\n",
    "\n",
    "def main():\n",
    "    # Initialize counters\n",
    "    high = 0\n",
    "    low = 0\n",
    "    win = 0\n",
    "\n",
    "    # Generate a random number between 1 and 100\n",
    "    number = random.randint(1, 100)\n",
    "\n",
    "    while win == 0:\n",
    "        # Input: Ask the user to guess a number\n",
    "        try:\n",
    "            userNum = int(input(\"Please guess a number between 1 and 100: \"))\n",
    "        except ValueError:\n",
    "            print(\"Invalid input. Please enter a valid integer.\")\n",
    "            continue\n",
    "\n",
    "        # Check if the user's guess is too high, correct, or too low\n",
    "        if userNum > number:\n",
    "            message = \"Too high, try again.\"\n",
    "            high += 1\n",
    "        elif userNum == number:\n",
    "            message = \"You got it correct! Congratulations!\"\n",
    "            win += 1\n",
    "        else:\n",
    "            message = \"Too low, try again.\"\n",
    "            low += 1\n",
    "\n",
    "        print(message)\n",
    "\n",
    "    # Display total statistics\n",
    "    print(\"\\nNumber of times too high:\", high)\n",
    "    print(\"Number of times too low:\", low)\n",
    "    print(\"Total number of guesses:\", high + low + win)\n",
    "\n",
    "# Call the main function\n",
    "main()"
   ]
  },
  {
   "cell_type": "code",
   "execution_count": null,
   "id": "2e8aac3e",
   "metadata": {},
   "outputs": [],
   "source": []
  }
 ],
 "metadata": {
  "kernelspec": {
   "display_name": "Python 3 (ipykernel)",
   "language": "python",
   "name": "python3"
  },
  "language_info": {
   "codemirror_mode": {
    "name": "ipython",
    "version": 3
   },
   "file_extension": ".py",
   "mimetype": "text/x-python",
   "name": "python",
   "nbconvert_exporter": "python",
   "pygments_lexer": "ipython3",
   "version": "3.9.13"
  }
 },
 "nbformat": 4,
 "nbformat_minor": 5
}

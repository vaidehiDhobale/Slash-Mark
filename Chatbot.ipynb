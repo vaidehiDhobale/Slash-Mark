{
 "cells": [
  {
   "cell_type": "markdown",
   "id": "00d13e09",
   "metadata": {},
   "source": [
    "## chatbot"
   ]
  },
  {
   "cell_type": "code",
   "execution_count": null,
   "id": "d2d0254e",
   "metadata": {},
   "outputs": [
    {
     "name": "stdout",
     "output_type": "stream",
     "text": [
      "Chatbot: Hello! How can I assist you today?\n",
      "You: hi\n",
      "Chatbot: Hello!\n",
      "You: op\n",
      "Chatbot: None\n"
     ]
    }
   ],
   "source": [
    "import nltk\n",
    "from nltk.chat.util import Chat, reflections\n",
    "\n",
    "# Define your chatbot rules\n",
    "rules = [\n",
    "    (r\"hi|hello|hey\", [\"Hello!\", \"Hi there!\"]),\n",
    "    (r\"how are you\", [\"I'm just a chatbot, but I'm doing fine!\", \"I don't have feelings, but thanks for asking!\"]),\n",
    "    (r\"bye|goodbye\", [\"Goodbye!\", \"See you later!\"]),\n",
    "    # Add more rules here...\n",
    "]\n",
    "\n",
    "def main():\n",
    "    print(\"Chatbot: Hello! How can I assist you today?\")\n",
    "    chatbot = Chat(rules, reflections)\n",
    "    while True:\n",
    "        user_input = input(\"You: \")\n",
    "        if user_input.lower() == \"quit\":\n",
    "            print(\"Chatbot: Goodbye!\")\n",
    "            break\n",
    "        response = chatbot.respond(user_input)\n",
    "        print(\"Chatbot:\", response)\n",
    "\n",
    "if __name__ == \"__main__\":\n",
    "    main()\n"
   ]
  },
  {
   "cell_type": "code",
   "execution_count": null,
   "id": "0f9b8b45",
   "metadata": {},
   "outputs": [],
   "source": []
  }
 ],
 "metadata": {
  "kernelspec": {
   "display_name": "Python 3 (ipykernel)",
   "language": "python",
   "name": "python3"
  },
  "language_info": {
   "codemirror_mode": {
    "name": "ipython",
    "version": 3
   },
   "file_extension": ".py",
   "mimetype": "text/x-python",
   "name": "python",
   "nbconvert_exporter": "python",
   "pygments_lexer": "ipython3",
   "version": "3.9.13"
  }
 },
 "nbformat": 4,
 "nbformat_minor": 5
}
